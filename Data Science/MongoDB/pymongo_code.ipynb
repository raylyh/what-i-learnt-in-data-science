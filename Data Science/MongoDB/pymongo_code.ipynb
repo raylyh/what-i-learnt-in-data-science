{
 "cells": [
  {
   "cell_type": "markdown",
   "metadata": {},
   "source": [
    "> Updated in PyMongo 3.11.0"
   ]
  },
  {
   "cell_type": "code",
   "execution_count": null,
   "metadata": {},
   "outputs": [],
   "source": [
    "from datetime import datetime"
   ]
  },
  {
   "cell_type": "code",
   "execution_count": null,
   "metadata": {
    "scrolled": true
   },
   "outputs": [],
   "source": [
    "import pymongo\n",
    "from pymongo import MongoClient"
   ]
  },
  {
   "cell_type": "markdown",
   "metadata": {},
   "source": [
    "### Establishing Connection\n",
    "\n",
    "#### Documentation\n",
    "- [Connection String](https://docs.mongodb.com/manual/reference/connection-string)\n",
    "- [MongoClient](https://pymongo.readthedocs.io/en/stable/api/pymongo/mongo_client.html)"
   ]
  },
  {
   "cell_type": "code",
   "execution_count": null,
   "metadata": {
    "scrolled": false
   },
   "outputs": [],
   "source": [
    "# connecting to localhost, listening on port 27017\n",
    "client = MongoClient('mongodb://localhost:27017')"
   ]
  },
  {
   "cell_type": "markdown",
   "metadata": {},
   "source": [
    "### Check Database Names"
   ]
  },
  {
   "cell_type": "code",
   "execution_count": null,
   "metadata": {
    "scrolled": true
   },
   "outputs": [],
   "source": [
    "# get a list of the names of all databases on the connected server\n",
    "client.list_database_names()"
   ]
  },
  {
   "cell_type": "markdown",
   "metadata": {},
   "source": [
    "### Create/Access Database and Collection"
   ]
  },
  {
   "cell_type": "code",
   "execution_count": null,
   "metadata": {},
   "outputs": [],
   "source": [
    "\"\"\" Accessing a database/collection will create one\n",
    "if it does not already exist.\n",
    "\"\"\"\n",
    "\n",
    "# get the db_name Database on MongoClient client \n",
    "db = client.db_name\n",
    "# get the collection_name Collection of Database db\n",
    "collection = db.collection_name"
   ]
  },
  {
   "cell_type": "markdown",
   "metadata": {},
   "source": [
    "### Importing Data with mongoimport\n",
    "\n",
    "`mongoimport` a Unix command which comes with Mongo for importing data\n",
    "\n",
    "`%%bash` Jupyter magic for bash command in the next cell \n",
    "\n",
    "`%lsmagic` List out available Jupyter \\\"magics\\\"\n",
    "\n",
    "#### Documentation\n",
    "- [mongoimport](https://docs.mongodb.com/database-tools/mongoimport/)"
   ]
  },
  {
   "cell_type": "code",
   "execution_count": 1,
   "metadata": {},
   "outputs": [
    {
     "name": "stderr",
     "output_type": "stream",
     "text": [
      "--2020-11-04 15:34:56--  https://raw.githubusercontent.com/mongodb/docs-assets/primer-dataset/primer-dataset.json\n",
      "Resolving raw.githubusercontent.com (raw.githubusercontent.com)... 151.101.16.133\n",
      "Connecting to raw.githubusercontent.com (raw.githubusercontent.com)|151.101.16.133|:443... connected.\n",
      "HTTP request sent, awaiting response... 200 OK\n",
      "Length: 11874761 (11M) [text/plain]\n",
      "Saving to: â€˜primer-dataset.jsonâ€™\n",
      "\n",
      "     0K .......... .......... .......... .......... ..........  0%  857K 13s\n",
      "    50K .......... .......... .......... .......... ..........  0%  623K 16s\n",
      "   100K .......... .......... .......... .......... ..........  1%  721K 16s\n",
      "   150K .......... .......... .......... .......... ..........  1%  297K 21s\n",
      "   200K .......... .......... .......... .......... ..........  2%  403K 23s\n",
      "   250K .......... .......... .......... .......... ..........  2%  395K 24s\n",
      "   300K .......... .......... .......... .......... ..........  3% 30.1K 74s\n",
      "   350K .......... .......... .......... .......... ..........  3%  139K 74s\n",
      "   400K .......... .......... .......... .......... ..........  3%  175K 73s\n",
      "   450K .......... .......... .......... .......... ..........  4%  492K 67s\n",
      "   500K .......... .......... .......... .......... ..........  4% 2.00M 61s\n",
      "   550K .......... .......... .......... .......... ..........  5% 2.48M 56s\n",
      "   600K .......... .......... .......... .......... ..........  5% 1.55M 52s\n",
      "   650K .......... .......... .......... .......... ..........  6% 1.43M 49s\n",
      "   700K .......... .......... .......... .......... ..........  6% 1.53M 46s\n",
      "   750K .......... .......... .......... .......... ..........  6% 1.28M 43s\n",
      "   800K .......... .......... .......... .......... ..........  7% 2.66M 41s\n",
      "   850K .......... .......... .......... .......... ..........  7%  988K 39s\n",
      "   900K .......... .......... .......... .......... ..........  8% 1.42M 37s\n",
      "   950K .......... .......... .......... .......... ..........  8% 1.10M 36s\n",
      "  1000K .......... .......... .......... .......... ..........  9% 2.50M 34s\n",
      "  1050K .......... .......... .......... .......... ..........  9% 1.84M 33s\n",
      "  1100K .......... .......... .......... .......... ..........  9% 1.31M 31s\n",
      "  1150K .......... .......... .......... .......... .......... 10% 1.33M 30s\n",
      "  1200K .......... .......... .......... .......... .......... 10% 1.08M 29s\n",
      "  1250K .......... .......... .......... .......... .......... 11% 1.21M 28s\n",
      "  1300K .......... .......... .......... .......... .......... 11% 2.12M 27s\n",
      "  1350K .......... .......... .......... .......... .......... 12% 1.19M 26s\n",
      "  1400K .......... .......... .......... .......... .......... 12% 1.13M 26s\n",
      "  1450K .......... .......... .......... .......... .......... 12% 2.22M 25s\n",
      "  1500K .......... .......... .......... .......... .......... 13% 2.10M 24s\n",
      "  1550K .......... .......... .......... .......... .......... 13% 1023K 24s\n",
      "  1600K .......... .......... .......... .......... .......... 14% 1.76M 23s\n",
      "  1650K .......... .......... .......... .......... .......... 14% 1.25M 22s\n",
      "  1700K .......... .......... .......... .......... .......... 15% 1.45M 22s\n",
      "  1750K .......... .......... .......... .......... .......... 15% 2.93M 21s\n",
      "  1800K .......... .......... .......... .......... .......... 15% 1.97M 21s\n",
      "  1850K .......... .......... .......... .......... .......... 16% 1.74M 20s\n",
      "  1900K .......... .......... .......... .......... .......... 16% 1.98M 20s\n",
      "  1950K .......... .......... .......... .......... .......... 17% 1.71M 19s\n",
      "  2000K .......... .......... .......... .......... .......... 17% 1023K 19s\n",
      "  2050K .......... .......... .......... .......... .......... 18%  698K 19s\n",
      "  2100K .......... .......... .......... .......... .......... 18% 2.61M 18s\n",
      "  2150K .......... .......... .......... .......... .......... 18% 1.31M 18s\n",
      "  2200K .......... .......... .......... .......... .......... 19% 1.94M 17s\n",
      "  2250K .......... .......... .......... .......... .......... 19% 1.85M 17s\n",
      "  2300K .......... .......... .......... .......... .......... 20% 1.89M 17s\n",
      "  2350K .......... .......... .......... .......... .......... 20% 1.21M 16s\n",
      "  2400K .......... .......... .......... .......... .......... 21% 2.23M 16s\n",
      "  2450K .......... .......... .......... .......... .......... 21% 1016K 16s\n",
      "  2500K .......... .......... .......... .......... .......... 21% 1.15M 16s\n",
      "  2550K .......... .......... .......... .......... .......... 22% 2.00M 15s\n",
      "  2600K .......... .......... .......... .......... .......... 22% 1.71M 15s\n",
      "  2650K .......... .......... .......... .......... .......... 23% 2.47M 15s\n",
      "  2700K .......... .......... .......... .......... .......... 23% 1.86M 14s\n",
      "  2750K .......... .......... .......... .......... .......... 24% 1.78M 14s\n",
      "  2800K .......... .......... .......... .......... .......... 24% 1.94M 14s\n",
      "  2850K .......... .......... .......... .......... .......... 25%  766K 14s\n",
      "  2900K .......... .......... .......... .......... .......... 25% 2.31M 14s\n",
      "  2950K .......... .......... .......... .......... .......... 25% 1.98M 13s\n",
      "  3000K .......... .......... .......... .......... .......... 26% 2.48M 13s\n",
      "  3050K .......... .......... .......... .......... .......... 26% 1.10M 13s\n",
      "  3100K .......... .......... .......... .......... .......... 27%  943K 13s\n",
      "  3150K .......... .......... .......... .......... .......... 27%  972K 13s\n",
      "  3200K .......... .......... .......... .......... .......... 28%  520K 13s\n",
      "  3250K .......... .......... .......... .......... .......... 28%  335K 13s\n",
      "  3300K .......... .......... .......... .......... .......... 28%  784K 13s\n",
      "  3350K .......... .......... .......... .......... .......... 29%  549K 13s\n",
      "  3400K .......... .......... .......... .......... .......... 29%  601K 13s\n",
      "  3450K .......... .......... .......... .......... .......... 30%  681K 12s\n",
      "  3500K .......... .......... .......... .......... .......... 30% 1019K 12s\n",
      "  3550K .......... .......... .......... .......... .......... 31%  752K 12s\n",
      "  3600K .......... .......... .......... .......... .......... 31% 1.29M 12s\n",
      "  3650K .......... .......... .......... .......... .......... 31% 1.29M 12s\n",
      "  3700K .......... .......... .......... .......... .......... 32% 1.19M 12s\n",
      "  3750K .......... .......... .......... .......... .......... 32% 2.46M 12s\n",
      "  3800K .......... .......... .......... .......... .......... 33% 1.44M 11s\n",
      "  3850K .......... .......... .......... .......... .......... 33% 2.82M 11s\n",
      "  3900K .......... .......... .......... .......... .......... 34% 1.30M 11s\n",
      "  3950K .......... .......... .......... .......... .......... 34% 9.37M 11s\n",
      "  4000K .......... .......... .......... .......... .......... 34% 2.13M 11s\n",
      "  4050K .......... .......... .......... .......... .......... 35% 1.17M 11s\n",
      "  4100K .......... .......... .......... .......... .......... 35% 1.88M 10s\n",
      "  4150K .......... .......... .......... .......... .......... 36% 2.37M 10s\n",
      "  4200K .......... .......... .......... .......... .......... 36% 2.10M 10s\n",
      "  4250K .......... .......... .......... .......... .......... 37% 2.09M 10s\n",
      "  4300K .......... .......... .......... .......... .......... 37% 2.86M 10s\n",
      "  4350K .......... .......... .......... .......... .......... 37% 1.40M 10s\n",
      "  4400K .......... .......... .......... .......... .......... 38% 2.52M 10s\n",
      "  4450K .......... .......... .......... .......... .......... 38% 2.05M 9s\n",
      "  4500K .......... .......... .......... .......... .......... 39% 3.00M 9s\n",
      "  4550K .......... .......... .......... .......... .......... 39% 2.02M 9s\n",
      "  4600K .......... .......... .......... .......... .......... 40% 3.19M 9s\n",
      "  4650K .......... .......... .......... .......... .......... 40% 3.33M 9s\n",
      "  4700K .......... .......... .......... .......... .......... 40% 1.50M 9s\n",
      "  4750K .......... .......... .......... .......... .......... 41% 3.79M 9s\n",
      "  4800K .......... .......... .......... .......... .......... 41% 3.85M 9s\n",
      "  4850K .......... .......... .......... .......... .......... 42% 1.84M 8s\n",
      "  4900K .......... .......... .......... .......... .......... 42% 2.98M 8s\n",
      "  4950K .......... .......... .......... .......... .......... 43% 1.94M 8s\n",
      "  5000K .......... .......... .......... .......... .......... 43% 2.68M 8s\n",
      "  5050K .......... .......... .......... .......... .......... 43% 2.48M 8s\n",
      "  5100K .......... .......... .......... .......... .......... 44% 3.74M 8s\n",
      "  5150K .......... .......... .......... .......... .......... 44% 2.42M 8s\n",
      "  5200K .......... .......... .......... .......... .......... 45% 2.28M 8s\n",
      "  5250K .......... .......... .......... .......... .......... 45% 1.87M 7s\n",
      "  5300K .......... .......... .......... .......... .......... 46% 3.35M 7s\n",
      "  5350K .......... .......... .......... .......... .......... 46% 2.92M 7s\n",
      "  5400K .......... .......... .......... .......... .......... 46% 2.20M 7s\n",
      "  5450K .......... .......... .......... .......... .......... 47% 3.39M 7s\n",
      "  5500K .......... .......... .......... .......... .......... 47% 2.82M 7s\n",
      "  5550K .......... .......... .......... .......... .......... 48% 1.56M 7s\n",
      "  5600K .......... .......... .......... .......... .......... 48% 2.35M 7s\n",
      "  5650K .......... .......... .......... .......... .......... 49% 2.65M 7s\n",
      "  5700K .......... .......... .......... .......... .......... 49% 1.77M 7s\n",
      "  5750K .......... .......... .......... .......... .......... 50% 2.51M 7s\n",
      "  5800K .......... .......... .......... .......... .......... 50% 5.50M 6s\n",
      "  5850K .......... .......... .......... .......... .......... 50% 2.18M 6s\n",
      "  5900K .......... .......... .......... .......... .......... 51% 4.67M 6s\n",
      "  5950K .......... .......... .......... .......... .......... 51% 2.06M 6s\n",
      "  6000K .......... .......... .......... .......... .......... 52% 2.28M 6s\n",
      "  6050K .......... .......... .......... .......... .......... 52% 1.26M 6s\n",
      "  6100K .......... .......... .......... .......... .......... 53% 2.85M 6s\n",
      "  6150K .......... .......... .......... .......... .......... 53% 1.60M 6s\n",
      "  6200K .......... .......... .......... .......... .......... 53%  819K 6s\n",
      "  6250K .......... .......... .......... .......... .......... 54% 2.01M 6s\n",
      "  6300K .......... .......... .......... .......... .......... 54% 1.88M 6s\n",
      "  6350K .......... .......... .......... .......... .......... 55% 2.16M 6s\n",
      "  6400K .......... .......... .......... .......... .......... 55%  738K 5s\n",
      "  6450K .......... .......... .......... .......... .......... 56% 1.30M 5s\n",
      "  6500K .......... .......... .......... .......... .......... 56% 1.23M 5s\n",
      "  6550K .......... .......... .......... .......... .......... 56% 1.92M 5s\n",
      "  6600K .......... .......... .......... .......... .......... 57% 2.87M 5s\n",
      "  6650K .......... .......... .......... .......... .......... 57% 1.33M 5s\n",
      "  6700K .......... .......... .......... .......... .......... 58% 1.73M 5s\n",
      "  6750K .......... .......... .......... .......... .......... 58% 1.43M 5s\n",
      "  6800K .......... .......... .......... .......... .......... 59% 1.28M 5s\n",
      "  6850K .......... .......... .......... .......... .......... 59% 1.04M 5s\n",
      "  6900K .......... .......... .......... .......... .......... 59% 1.77M 5s\n",
      "  6950K .......... .......... .......... .......... .......... 60% 2.02M 5s\n",
      "  7000K .......... .......... .......... .......... .......... 60% 1.41M 5s\n",
      "  7050K .......... .......... .......... .......... .......... 61% 2.95M 5s\n",
      "  7100K .......... .......... .......... .......... .......... 61% 1.32M 5s\n",
      "  7150K .......... .......... .......... .......... .......... 62% 10.6M 4s\n",
      "  7200K .......... .......... .......... .......... .......... 62% 3.50M 4s\n",
      "  7250K .......... .......... .......... .......... .......... 62% 1.76M 4s\n",
      "  7300K .......... .......... .......... .......... .......... 63% 6.12M 4s\n",
      "  7350K .......... .......... .......... .......... .......... 63% 2.83M 4s\n",
      "  7400K .......... .......... .......... .......... .......... 64% 1.36M 4s\n",
      "  7450K .......... .......... .......... .......... .......... 64% 5.37M 4s\n",
      "  7500K .......... .......... .......... .......... .......... 65% 1.75M 4s\n",
      "  7550K .......... .......... .......... .......... .......... 65% 2.20M 4s\n",
      "  7600K .......... .......... .......... .......... .......... 65% 7.30M 4s\n",
      "  7650K .......... .......... .......... .......... .......... 66% 1.36M 4s\n",
      "  7700K .......... .......... .......... .......... .......... 66% 1.66M 4s\n",
      "  7750K .......... .......... .......... .......... .......... 67% 3.59M 4s\n",
      "  7800K .......... .......... .......... .......... .......... 67% 2.53M 4s\n",
      "  7850K .......... .......... .......... .......... .......... 68% 1.62M 4s\n",
      "  7900K .......... .......... .......... .......... .......... 68% 1016K 4s\n",
      "  7950K .......... .......... .......... .......... .......... 68% 1.46M 3s\n",
      "  8000K .......... .......... .......... .......... .......... 69% 3.48M 3s\n",
      "  8050K .......... .......... .......... .......... .......... 69% 2.65M 3s\n",
      "  8100K .......... .......... .......... .......... .......... 70% 4.06M 3s\n",
      "  8150K .......... .......... .......... .......... .......... 70% 3.51M 3s\n",
      "  8200K .......... .......... .......... .......... .......... 71% 2.30M 3s\n",
      "  8250K .......... .......... .......... .......... .......... 71% 4.92M 3s\n",
      "  8300K .......... .......... .......... .......... .......... 72% 2.23M 3s\n",
      "  8350K .......... .......... .......... .......... .......... 72% 2.41M 3s\n",
      "  8400K .......... .......... .......... .......... .......... 72% 2.81M 3s\n",
      "  8450K .......... .......... .......... .......... .......... 73% 1.81M 3s\n",
      "  8500K .......... .......... .......... .......... .......... 73% 2.58M 3s\n",
      "  8550K .......... .......... .......... .......... .......... 74% 2.92M 3s\n",
      "  8600K .......... .......... .......... .......... .......... 74% 2.13M 3s\n",
      "  8650K .......... .......... .......... .......... .......... 75% 1.67M 3s\n",
      "  8700K .......... .......... .......... .......... .......... 75% 4.06M 3s\n",
      "  8750K .......... .......... .......... .......... .......... 75% 6.68M 3s\n",
      "  8800K .......... .......... .......... .......... .......... 76% 1.85M 2s\n",
      "  8850K .......... .......... .......... .......... .......... 76% 1.30M 2s\n",
      "  8900K .......... .......... .......... .......... .......... 77% 79.6M 2s\n",
      "  8950K .......... .......... .......... .......... .......... 77% 2.98M 2s\n",
      "  9000K .......... .......... .......... .......... .......... 78% 2.03M 2s\n",
      "  9050K .......... .......... .......... .......... .......... 78% 1.32M 2s\n",
      "  9100K .......... .......... .......... .......... .......... 78% 2.92M 2s\n",
      "  9150K .......... .......... .......... .......... .......... 79% 1.20M 2s\n",
      "  9200K .......... .......... .......... .......... .......... 79% 2.57M 2s\n",
      "  9250K .......... .......... .......... .......... .......... 80% 1010K 2s\n",
      "  9300K .......... .......... .......... .......... .......... 80% 2.70M 2s\n",
      "  9350K .......... .......... .......... .......... .......... 81% 2.10M 2s\n",
      "  9400K .......... .......... .......... .......... .......... 81% 1.87M 2s\n",
      "  9450K .......... .......... .......... .......... .......... 81% 1.32M 2s\n",
      "  9500K .......... .......... .......... .......... .......... 82% 1.74M 2s\n",
      "  9550K .......... .......... .......... .......... .......... 82% 2.63M 2s\n",
      "  9600K .......... .......... .......... .......... .......... 83%  980K 2s\n",
      "  9650K .......... .......... .......... .......... .......... 83% 1.75M 2s\n",
      "  9700K .......... .......... .......... .......... .......... 84% 1.94M 2s\n",
      "  9750K .......... .......... .......... .......... .......... 84% 1.66M 2s\n",
      "  9800K .......... .......... .......... .......... .......... 84% 2.73M 2s\n",
      "  9850K .......... .......... .......... .......... .......... 85% 1.65M 1s\n",
      "  9900K .......... .......... .......... .......... .......... 85% 1.61M 1s\n",
      "  9950K .......... .......... .......... .......... .......... 86% 1.82M 1s\n",
      " 10000K .......... .......... .......... .......... .......... 86% 2.50M 1s\n",
      " 10050K .......... .......... .......... .......... .......... 87% 1.11M 1s\n",
      " 10100K .......... .......... .......... .......... .......... 87% 3.93M 1s\n",
      " 10150K .......... .......... .......... .......... .......... 87% 1.42M 1s\n",
      " 10200K .......... .......... .......... .......... .......... 88% 4.32M 1s\n",
      " 10250K .......... .......... .......... .......... .......... 88% 1.84M 1s\n",
      " 10300K .......... .......... .......... .......... .......... 89% 2.47M 1s\n",
      " 10350K .......... .......... .......... .......... .......... 89% 1.51M 1s\n",
      " 10400K .......... .......... .......... .......... .......... 90% 4.46M 1s\n",
      " 10450K .......... .......... .......... .......... .......... 90% 1.16M 1s\n",
      " 10500K .......... .......... .......... .......... .......... 90% 2.41M 1s\n",
      " 10550K .......... .......... .......... .......... .......... 91% 1.96M 1s\n",
      " 10600K .......... .......... .......... .......... .......... 91% 1.33M 1s\n",
      " 10650K .......... .......... .......... .......... .......... 92% 1.92M 1s\n",
      " 10700K .......... .......... .......... .......... .......... 92% 2.18M 1s\n",
      " 10750K .......... .......... .......... .......... .......... 93% 1.68M 1s\n",
      " 10800K .......... .......... .......... .......... .......... 93% 1.02M 1s\n",
      " 10850K .......... .......... .......... .......... .......... 93% 1.28M 1s\n",
      " 10900K .......... .......... .......... .......... .......... 94% 3.88M 1s\n",
      " 10950K .......... .......... .......... .......... .......... 94% 1.18M 0s\n",
      " 11000K .......... .......... .......... .......... .......... 95% 2.31M 0s\n",
      " 11050K .......... .......... .......... .......... .......... 95% 1.70M 0s\n",
      " 11100K .......... .......... .......... .......... .......... 96%  779K 0s\n",
      " 11150K .......... .......... .......... .......... .......... 96% 2.88M 0s\n",
      " 11200K .......... .......... .......... .......... .......... 97% 1.10M 0s\n",
      " 11250K .......... .......... .......... .......... .......... 97% 1.57M 0s\n",
      " 11300K .......... .......... .......... .......... .......... 97% 2.20M 0s\n",
      " 11350K .......... .......... .......... .......... .......... 98% 3.51M 0s\n",
      " 11400K .......... .......... .......... .......... .......... 98%  675K 0s\n",
      " 11450K .......... .......... .......... .......... .......... 99% 1.92M 0s\n",
      " 11500K .......... .......... .......... .......... .......... 99% 1.75M 0s\n",
      " 11550K .......... .......... .......... .......... ......    100% 3.74M=9.6s\n",
      "\n",
      "2020-11-04 15:35:06 (1.18 MB/s) - â€˜primer-dataset.jsonâ€™ saved [11874761/11874761]\n",
      "\n",
      "/bin/bash: line 6: mongoimport: command not found\n"
     ]
    }
   ],
   "source": [
    "%%bash\n",
    "# wget to download the JSON file from the url\n",
    "wget https://raw.githubusercontent.com/mongodb/docs-assets/primer-dataset/primer-dataset.json\n",
    "# specifies the database, collection, and import file\n",
    "# --drop drop any collection with the same name which already exists\n",
    "mongoimport --db test --collection restaurants --drop --file ./primer-dataset.json\n",
    "# delete the JSON file\n",
    "rm ./primer-dataset.json"
   ]
  },
  {
   "cell_type": "markdown",
   "metadata": {},
   "source": [
    "### Inserting Documents"
   ]
  },
  {
   "cell_type": "code",
   "execution_count": null,
   "metadata": {},
   "outputs": [],
   "source": [
    "\"\"\" The way to insert data is as a JSON object. \n",
    "For Python, use a `dict` or a `list` for this.\n",
    "\n",
    "PyMongo automatically adds a unique identifier `_id` field to a document\n",
    "if it does not already exist.\n",
    "\"\"\"\n",
    "\n",
    "# create an object and insert into the collection\n",
    "single_obj = {'name': 'Amber',\n",
    "              'Meaning of life': 42, \n",
    "              'time': datetime.now()}\n",
    "collection.insert_one(single_obj)\n",
    "\n",
    "# create a list of object and insert into the collection\n",
    "many_objects = ({'name': 'RAY'}, {'name': 'MATTHEW'})\n",
    "collection.insert_many(many_objects)"
   ]
  },
  {
   "cell_type": "markdown",
   "metadata": {},
   "source": [
    "## Querying Documents"
   ]
  },
  {
   "cell_type": "markdown",
   "metadata": {},
   "source": [
    "### [Find](https://pymongo.readthedocs.io/en/stable/api/pymongo/collection.html#pymongo.collection.Collection.find)\n",
    "`find()` returns a [cursor](https://api.mongodb.com/python/current/api/pymongo/cursor.html) of all documents in the collection\n",
    "matching the query condition.\n",
    "\n",
    "The `filter` parameter is a dict, \n",
    "which searches for the documents where `key` = `value` \n",
    "where the dict is of the form `{key: value}`\n",
    "\n",
    "The `limit` parameter specifies the maximum number of results to return"
   ]
  },
  {
   "cell_type": "code",
   "execution_count": 5,
   "metadata": {},
   "outputs": [
    {
     "data": {
      "text/plain": [
       "{u'_id': ObjectId('5dd7c4135ccae9021c6c8d07'),\n",
       " u'favourite_song': u'The Load-Out',\n",
       " u'name': u'Amber',\n",
       " u'star_sign': u'Capricorn'}"
      ]
     },
     "execution_count": 5,
     "metadata": {},
     "output_type": "execute_result"
    }
   ],
   "source": [
    "# returns a single document matching the query condition\n",
    "collection.find_one() \n",
    "collection.find_one({'name':'Robert'})"
   ]
  },
  {
   "cell_type": "code",
   "execution_count": null,
   "metadata": {
    "scrolled": false
   },
   "outputs": [],
   "source": [
    "# get all documents in the collection\n",
    "cursor = collection.find()\n",
    "\n",
    "# get documents matching the filter condition\n",
    "cursor = collection.find({'cuisine': 'Bakery'}).limit(5)\n",
    "cursor = collection.find({'cuisine': 'Bakery'}, limit=5)\n",
    "\n",
    "# filter with AND conditions\n",
    "cursor = collection.find({'cuisine': 'Hamburgers', 'borough': 'Manhattan'})\n",
    "\n",
    "# iterate the cursor to print the results\n",
    "for doc in cursor:\n",
    "    print(doc)"
   ]
  },
  {
   "cell_type": "markdown",
   "metadata": {},
   "source": [
    "### Filters with [Operators](https://docs.mongodb.com/manual/reference/operator/query/)\n",
    "\n",
    "MongoDB has a series of operators which allow us to do more sophisticated filters on our queries. The specific syntax varies depending on the operator, so it isn't possible to give a general rule."
   ]
  },
  {
   "cell_type": "code",
   "execution_count": null,
   "metadata": {},
   "outputs": [],
   "source": [
    "# performs a logical OR operation\n",
    "filter = {\"$or\": [{\"cuisine\": \"Polynesian\"}, {\"cuisine\": \"Hawaiian\"}]}\n",
    "\n",
    "# searches for a regular expression on a particular field\n",
    "filter = {\"name\": {\"$regex\": '^Pretzel'}}\n",
    "filter = {'borough': 'Brooklyn', 'name': {'$regex': 'Bar$'}}\n",
    "\n",
    "# comparison between two values where one is greater than the other\n",
    "filter = {'grades.score': {'$gt': 12}}\n",
    "\n",
    "# the value of a field equals the specified value\n",
    "day = datetime(2012, 12, 15)\n",
    "filter = {'grades.date': {'$eq': day}}"
   ]
  },
  {
   "cell_type": "markdown",
   "metadata": {},
   "source": [
    "### Organising output with Fields and Sort\n",
    "\n",
    "The field selection or `projection` argument is the argument after the \\[optional\\] filter, and is either:\n",
    "- A list of fields to include (plus \\_id)\n",
    "- A dict of fields with True/False to include"
   ]
  },
  {
   "cell_type": "code",
   "execution_count": 35,
   "metadata": {},
   "outputs": [
    {
     "data": {
      "text/plain": [
       "{u'name': u'Churrascaria Plataforma'}"
      ]
     },
     "execution_count": 35,
     "metadata": {},
     "output_type": "execute_result"
    }
   ],
   "source": [
    "fields = {'_id': False, 'name': True}\n",
    "collection.find_one(filter, fields)"
   ]
  },
  {
   "cell_type": "markdown",
   "metadata": {},
   "source": [
    "The `sort` argument is a list of (key, direction) pairs specifying the sort order for this query. This can also be a function in its own right [`sort()`](https://api.mongodb.com/python/current/api/pymongo/cursor.html#pymongo.cursor.Cursor.sort)"
   ]
  },
  {
   "cell_type": "code",
   "execution_count": null,
   "metadata": {},
   "outputs": [],
   "source": [
    "# The ASCENDING constant = 1\n",
    "# The DESCENDING constant = -1\n",
    "\n",
    "# sort in alphabetical order\n",
    "sort = [('name', pymongo.ASCENDING)]\n",
    "cursor = collection.find(filter, projection=fields, sort=sort)"
   ]
  },
  {
   "cell_type": "markdown",
   "metadata": {},
   "source": [
    "### [Count](https://pymongo.readthedocs.io/en/stable/api/pymongo/collection.html#pymongo.collection.Collection.count_documents)\n",
    "`count()` is deprecated in the MongoDB drivers compatible with the 4.0 features \n",
    "\n",
    "Check [`db.collection.count()`](https://docs.mongodb.com/manual/reference/method/db.collection.count/) and [Changelog](https://pymongo.readthedocs.io/en/stable/changelog.html) for more info"
   ]
  },
  {
   "cell_type": "code",
   "execution_count": null,
   "metadata": {},
   "outputs": [],
   "source": [
    "# count documents matching the filter condition\n",
    "count = collection.count_documents({'cuisine': 'Bakery'})"
   ]
  },
  {
   "cell_type": "markdown",
   "metadata": {},
   "source": [
    "### [Distinct](https://pymongo.readthedocs.io/en/stable/api/pymongo/collection.html#pymongo.collection.Collection.distinct)"
   ]
  },
  {
   "cell_type": "code",
   "execution_count": null,
   "metadata": {},
   "outputs": [],
   "source": [
    "# list out distinct values for key among all documents in this collection\n",
    "collection.distinct('cuisine')"
   ]
  },
  {
   "cell_type": "markdown",
   "metadata": {},
   "source": [
    "### Sub-documents\n",
    "\n",
    "A valid JSON style \"document\" can have another JSON document inside it.  To access these, we use the \"dot\" notation to access them."
   ]
  },
  {
   "cell_type": "markdown",
   "metadata": {},
   "source": [
    "## MongoDB Aggregation Framework\n",
    "\n",
    "The framework works as a pipeline, with a series of different stages where the data are transformed in each one."
   ]
  },
  {
   "cell_type": "markdown",
   "metadata": {},
   "source": [
    "### Aggregation Example"
   ]
  },
  {
   "cell_type": "code",
   "execution_count": null,
   "metadata": {},
   "outputs": [],
   "source": [
    "\"\"\" obtain count, min, max in the collection\n",
    "\n",
    "Note that `$_id: None` key/value pair in it.  \n",
    "It is compulsory for a `$group` pipeline to have one, \n",
    "and it indicates what it is grouping by. \n",
    "In this case, we haven't grouped it at all, \n",
    "\"\"\"\n",
    "\n",
    "group = {\n",
    "    '$group': {\n",
    "        '_id': None, \n",
    "        'size': {'$sum': 1},\n",
    "        'min': {'$min': '$restaurant_id'},\n",
    "        'max': {'$max': '$restaurant_id'}\n",
    "    }\n",
    "}\n",
    "\n",
    "cursor = collection.aggregate([group])"
   ]
  },
  {
   "cell_type": "code",
   "execution_count": 52,
   "metadata": {},
   "outputs": [
    {
     "name": "stdout",
     "output_type": "stream",
     "text": [
      "{u'Cuisine': u'American', u'count': 411}\n",
      "{u'Cuisine': u'Chinese', u'count': 323}\n",
      "{u'Cuisine': u'Pizza', u'count': 197}\n",
      "{u'Cuisine': u'Latin (Cuban, Dominican, Puerto Rican, South & Central American)',\n",
      " u'count': 187}\n",
      "{u'Cuisine': u'Spanish', u'count': 127}\n",
      "{u'Cuisine': u'Caribbean', u'count': 110}\n",
      "{u'Cuisine': u'Chicken', u'count': 108}\n",
      "{u'Cuisine': u'Mexican', u'count': 89}\n",
      "{u'Cuisine': u'Other', u'count': 86}\n",
      "{u'Cuisine': u'Hamburgers', u'count': 78}\n",
      "{u'Cuisine': u'Bakery', u'count': 71}\n",
      "{u'Cuisine': u'Donuts', u'count': 68}\n",
      "{u'Cuisine': u'Pizza/Italian', u'count': 53}\n",
      "{u'Cuisine': u'Italian', u'count': 52}\n",
      "{u'Cuisine': u'Sandwiches', u'count': 49}\n",
      "{u'Cuisine': u'Caf\\xe9/Coffee/Tea', u'count': 45}\n",
      "{u'Cuisine': u'Juice, Smoothies, Fruit Salads', u'count': 35}\n",
      "{u'Cuisine': u'African', u'count': 31}\n",
      "{u'Cuisine': u'Ice Cream, Gelato, Yogurt, Ices', u'count': 27}\n",
      "{u'Cuisine': u'Delicatessen', u'count': 26}\n",
      "{u'Cuisine': u'Seafood', u'count': 26}\n"
     ]
    }
   ],
   "source": [
    "\"\"\" find the number of different cuisines in Bronx\n",
    "sort by descending order of counts, otherwise alphabetical order\n",
    "limit the results to only cuisines with a count of 20 or more\n",
    "\"\"\"\n",
    "\n",
    "# Restrict the results to only establishments in the Bronx.  \n",
    "match = {\n",
    "    \"$match\": {\"borough\": \"Bronx\"}\n",
    "}\n",
    "\n",
    "# _id is the field to perform the operation on (like SQL GROUP BY)\n",
    "# count is the name of the field that the result will be in\n",
    "# $sum is the counting operation, and the value 1 is how many to count each time\n",
    "group = {\n",
    "    '$group': {'_id': '$cuisine', 'count': {'$sum': 1}}\n",
    "}\n",
    "\n",
    "# project the results with the Fields 'cuisine' and 'count'\n",
    "# change the _id field to cuisine\n",
    "project = {\n",
    "    '$project': {'_id': False, 'cuisine': '$_id', 'count': True}\n",
    "}\n",
    "\n",
    "# count is the field to sort by, and -1 means to sort in descending order\n",
    "# sorted by alphabetical order for same count\n",
    "sort = {\n",
    "    '$sort': {'count': pymongo.DESCENDING, 'Cuisine': pymongo.ASCENDING}\n",
    "}\n",
    "\n",
    "# limit the results to only result with a count of > 20\n",
    "# $match operation should be before $sort and $project to improve speed\n",
    "limit = {\n",
    "    \"$match\": {\"count\": {'$gt': 20}}\n",
    "}\n",
    "\n",
    "pipeline = [match, group, project, sort, limit]\n",
    "cursor = collection.aggregate(pipeline)\n",
    "for c in cursor:\n",
    "    print(c)"
   ]
  }
 ],
 "metadata": {
  "kernelspec": {
   "display_name": "Python 3",
   "language": "python",
   "name": "python3"
  },
  "language_info": {
   "codemirror_mode": {
    "name": "ipython",
    "version": 3
   },
   "file_extension": ".py",
   "mimetype": "text/x-python",
   "name": "python",
   "nbconvert_exporter": "python",
   "pygments_lexer": "ipython3",
   "version": "3.8.3"
  }
 },
 "nbformat": 4,
 "nbformat_minor": 2
}
