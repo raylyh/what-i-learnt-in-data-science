{
 "cells": [
  {
   "cell_type": "markdown",
   "metadata": {},
   "source": [
    "# Coursework 2: Data Processing\n",
    "\n",
    "## Task 1\n",
    "This coursework will assess your understanding of using NoSQL to store and retrieve data.  You will perform operations on data from the Enron email dataset in a MongoDB database, and write a report detailing the suitability of different types of databases for data science applications.  You will be required to run code to answer the given questions in the Jupyter notebook provided, and write a report describing alternative approaches to using MongoDB.\n",
    "\n",
    "Download the JSON version of the Enron data (using the “Download as zip” to download the data file from http://edshare.soton.ac.uk/19548/, the file is about 380MB) and import into a collection called messages in a database called enron.  You do not need to set up any authentication.  In the Jupyter notebook provided, perform the following tasks, using the Python PyMongo library.\n",
    "\n",
    "Answers should be efficient in terms of speed.  Answers which are less efficient will not get full marks."
   ]
  },
  {
   "cell_type": "code",
   "execution_count": 40,
   "metadata": {},
   "outputs": [
    {
     "data": {
      "text/plain": [
       "'\\nVersions in this assignment\\nMongoDB: 4.2.1\\nPython: 2.7.17\\nPymongo: 3.9.0\\n'"
      ]
     },
     "execution_count": 40,
     "metadata": {},
     "output_type": "execute_result"
    }
   ],
   "source": [
    "import pymongo\n",
    "from pymongo import MongoClient\n",
    "from datetime import datetime\n",
    "from pprint import pprint\n",
    "\n",
    "\"\"\"\n",
    "Versions in this assignment\n",
    "MongoDB: 4.2.1\n",
    "Python: 2.7.17\n",
    "Pymongo: 3.9.0\n",
    "\"\"\""
   ]
  },
  {
   "cell_type": "markdown",
   "metadata": {},
   "source": [
    "### 1)\n",
    "Write a function which returns a MongoDB connection object to the \"messages\" collection. [4 points] "
   ]
  },
  {
   "cell_type": "code",
   "execution_count": 41,
   "metadata": {
    "nbgrader": {
     "grade": false,
     "grade_id": "get_collection",
     "locked": false,
     "schema_version": 1,
     "solution": true
    }
   },
   "outputs": [],
   "source": [
    "def get_collection():\n",
    "    \"\"\"\n",
    "    Connects to the server, and returns a collection object\n",
    "    of the `messages` collection in the `enron` database\n",
    "    \"\"\"\n",
    "    # YOUR CODE HERE\n",
    "    client = MongoClient('mongodb://localhost:27017')\n",
    "    return client.enron.messages"
   ]
  },
  {
   "cell_type": "markdown",
   "metadata": {},
   "source": [
    "### 2)\n",
    "\n",
    "Write a function which returns the amount of emails in the messages collection in total. [4 points] "
   ]
  },
  {
   "cell_type": "code",
   "execution_count": 42,
   "metadata": {
    "nbgrader": {
     "grade": false,
     "grade_id": "get_amount_of_messages",
     "locked": false,
     "schema_version": 1,
     "solution": true
    }
   },
   "outputs": [],
   "source": [
    "def get_amount_of_messages(collection):\n",
    "    \"\"\"\n",
    "    :param collection A PyMongo collection object\n",
    "    :return the amount of documents in the collection\n",
    "    \"\"\"    \n",
    "    # YOUR CODE HERE\n",
    "    return collection.count_documents({})"
   ]
  },
  {
   "cell_type": "markdown",
   "metadata": {},
   "source": [
    "### 3) \n",
    "\n",
    "Write a function which returns each person who was BCCed on an email.  Include each person only once, and display only their name according to the X-To header. [4 points] \n",
    "\n"
   ]
  },
  {
   "cell_type": "code",
   "execution_count": 44,
   "metadata": {
    "nbgrader": {
     "grade": false,
     "grade_id": "get_bcced_people",
     "locked": false,
     "schema_version": 1,
     "solution": true
    },
    "scrolled": true
   },
   "outputs": [],
   "source": [
    "import re\n",
    "# 2289\n",
    "\n",
    "def get_bcced_people(collection):\n",
    "    \"\"\"\n",
    "    :param collection A PyMongo collection object\n",
    "    :return the names of the people who have received an email by BCC\n",
    "    \"\"\"    \n",
    "    # YOUR CODE HERE    \n",
    "    # Find all distinct names in the headers.X-bcc\n",
    "    BCC = collection.distinct('headers.X-bcc')\n",
    "    \n",
    "    # regex pattern to extract emails or names in headers.X-bcc\n",
    "    pattern = r'(?<!<)\\b\\S+@\\S+\\.\\S+\\b(?!>)|\\b\\w[^<>]+(?=\\s<.+?>)'\n",
    "    names = [name.strip() for items in BCC for name in re.findall(pattern, items)]\n",
    "\n",
    "    return list(set(names))\n",
    "    \n",
    "#     # Find emails that Bcc not empty and Bcc is equal to Cc\n",
    "#     match = {\n",
    "#         '$match': {'$and': [{'headers.Bcc': {'$ne': None}},\n",
    "#                             {'$expr': {'$eq': ['$headers.Bcc', '$headers.Cc']}}\n",
    "#                            ]}\n",
    "#     }\n",
    "#     project = {\n",
    "#         '$project': {'_id': False, 'bcc_email': '$headers.Bcc', 'cc_email': '$headers.Cc',\n",
    "#                      'bcc_name': '$headers.X-bcc', 'cc_name': '$headers.X-cc'}\n",
    "#     }\n",
    "#     group = {\n",
    "#         '$group': {'_id': '$cc_email', 'names': {'$push': '$cc_name'}}\n",
    "#     }"
   ]
  },
  {
   "cell_type": "markdown",
   "metadata": {},
   "source": [
    "### 4)\n",
    "\n",
    "Write a function with parameter subject, which gets all emails in a thread with that parameter, and orders them by date (ascending). “An email thread is an email message that includes a running list of all the succeeding replies starting with the original email.”, check for detail descriptions at https://www.techopedia.com/definition/1503/email-thread [4 points]"
   ]
  },
  {
   "cell_type": "code",
   "execution_count": 45,
   "metadata": {
    "nbgrader": {
     "grade": false,
     "grade_id": "get_emails_in_thread",
     "locked": false,
     "schema_version": 1,
     "solution": true
    },
    "scrolled": true
   },
   "outputs": [],
   "source": [
    "def get_emails_in_thread(collection, subject):\n",
    "    \"\"\"\n",
    "    :param collection A PyMongo collection object\n",
    "    :return All emails in the thread with that subject\n",
    "    \"\"\"    \n",
    "    # YOUR CODE HERE\n",
    "    # Find emails with that subject\n",
    "    match = {\n",
    "        '$match' : { 'headers.Subject' : {'$regex': subject}}\n",
    "    }\n",
    "    \n",
    "    # Create datetime field for sorting using $dateFromString in MongoDB\n",
    "    add = {\n",
    "        '$addFields' : {'datetime':  {'$dateFromString': {\n",
    "                                        'dateString': {\n",
    "                                            '$substr': ['$headers.Date', 0, {'$subtract': [{'$strLenCP': '$headers.Date'}, 5]}]\n",
    "                                        }}}\n",
    "                       }\n",
    "    }\n",
    "    \n",
    "    # Sort by date ascending\n",
    "    sort = {\n",
    "        '$sort' : {'datetime': pymongo.ASCENDING}\n",
    "    }\n",
    "\n",
    "    # keep relevant details\n",
    "    project = {\n",
    "        '$project' : {'_id':False, 'datetime': False}\n",
    "    }\n",
    "    \n",
    "    if subject == '':\n",
    "        raise Exception('Please enter a subject')\n",
    "    else:\n",
    "        cursor = collection.aggregate([match, add, sort, project])\n",
    "        return list(cursor)"
   ]
  },
  {
   "cell_type": "markdown",
   "metadata": {},
   "source": [
    "### 5)\n",
    "\n",
    "Write a function which returns the percentage of emails sent on a weekend (i.e., Saturday and Sunday) as a `float` between 0 and 1. [6 points]"
   ]
  },
  {
   "cell_type": "code",
   "execution_count": 46,
   "metadata": {
    "nbgrader": {
     "grade": false,
     "grade_id": "get_percentage_sent_on_weekend",
     "locked": false,
     "schema_version": 1,
     "solution": true
    },
    "scrolled": true
   },
   "outputs": [],
   "source": [
    "def get_percentage_sent_on_weekend(collection):\n",
    "    \"\"\"\n",
    "    :param collection A PyMongo collection object\n",
    "    :return A float between 0 and 1\n",
    "    \"\"\"    \n",
    "    # YOUR CODE HERE\n",
    "    weekends = collection.count_documents({'headers.Date': {'$regex' : 'Sat|Sun'}})\n",
    "    all = collection.count_documents({})\n",
    "    \n",
    "    return weekends / float(all)"
   ]
  },
  {
   "cell_type": "markdown",
   "metadata": {},
   "source": [
    "### 6)\n",
    "\n",
    "Write a function with parameter limit. The function should return for each email account: the number of emails sent, the number of emails received, and the total number of emails (sent and received). Use the following format: [{\"contact\": \"michael.simmons@enron.com\", \"from\": 42, \"to\": 92, \"total\": 134}] and the information contained in the To, From, and Cc headers. Sort the output in descending order by the total number of emails. Use the parameter limit to specify the number of results to be returned. If limit is null, the function should return all results. If limit is higher than null, the function should return the number of results specified as limit. limit cannot take negative values. [10 points]"
   ]
  },
  {
   "cell_type": "code",
   "execution_count": 47,
   "metadata": {
    "scrolled": true
   },
   "outputs": [],
   "source": [
    "def get_emails_between_contacts(collection, limit):\n",
    "    \"\"\"\n",
    "    Shows the communications between contacts\n",
    "    Sort by the descending order of total emails using the To, From, and Cc headers.\n",
    "    :param `collection` A PyMongo collection object    \n",
    "    :param `limit` An integer specifying the amount to display, or\n",
    "    if null will display all outputs\n",
    "    :return A list of objects of the form:\n",
    "    [{\n",
    "        'contact': <<Another email address>>\n",
    "        'from': \n",
    "        'to': \n",
    "        'total': \n",
    "    },{.....}]\n",
    "    \"\"\"\n",
    "    # Count the From emails\n",
    "    group_from = {\n",
    "        '$group' : {'_id' : '$headers.From', 'from_count': {'$sum': 1}}\n",
    "    }\n",
    "    \n",
    "    # Count the To emails which are not null and split them in mongoDB\n",
    "    match_to = {\n",
    "        '$match': {'headers.To': {'$ne': None}}\n",
    "    }\n",
    "    \n",
    "    group_to = {\n",
    "        '$group' : {'_id': '$headers.To', 'count': {'$sum': 1}}\n",
    "    }\n",
    "        \n",
    "    # Count the Cc emails which are not null and split them in mongoDB\n",
    "    match_cc = {\n",
    "        '$match': {'headers.Cc': {'$ne': None}}\n",
    "    } \n",
    "    \n",
    "    group_cc = {\n",
    "        '$group' : {'_id': '$headers.Cc', 'count': {'$sum': 1}}\n",
    "    }\n",
    "    \n",
    "    # split, unwind and group operations for To and Cc emails (and trim the white space)\n",
    "    split = {\n",
    "        '$project': {'_id': False, 'count': True, 'split_emails': {'$split': ['$_id', ',']}}\n",
    "    }\n",
    "    \n",
    "    unwind = {\n",
    "        '$unwind': '$split_emails'\n",
    "    }\n",
    "    \n",
    "    group_to_all = {\n",
    "        '$group': {'_id': {'$trim': {'input': '$split_emails'}}, 'to_count': {'$sum': '$count'}}\n",
    "    }\n",
    "    \n",
    "    group_cc_all = {\n",
    "        '$group': {'_id': {'$trim': {'input': '$split_emails'}}, 'cc_count': {'$sum': '$count'}}\n",
    "    }\n",
    "    \n",
    "    \n",
    "    # facet and project the results together\n",
    "    facet = {\n",
    "        '$facet': {\n",
    "            'from': [group_from], \n",
    "            'to': [match_to, group_to, split, unwind, group_to_all], \n",
    "            'cc': [match_cc, group_cc, split, unwind, group_cc_all]}\n",
    "    }\n",
    "\n",
    "    project = {\n",
    "        '$project': {'_id': False, 'all': {'$setUnion': ['$cc', '$from', '$to']}}\n",
    "    }\n",
    "    \n",
    "    unwind_all = {\n",
    "        '$unwind': '$all'\n",
    "    }\n",
    "    \n",
    "    replaceroot = {\n",
    "        '$replaceRoot': {'newRoot': '$all'}\n",
    "    }\n",
    "    \n",
    "    # group all the results by email address and do counting\n",
    "    group_all = {\n",
    "        '$group': {'_id': '$_id', 'from': {'$sum': '$from_count'}, 'to': {'$sum': '$to_count'}, 'cc': {'$sum': '$cc_count'}}\n",
    "    }\n",
    "    \n",
    "    # add the cc counts to the to counts as report as To\n",
    "    project_final = {\n",
    "        '$project': {'_id':False, 'contact': '$_id', 'from': True, 'to': {'$sum': ['$to', '$cc']}, 'total': {'$sum': ['$from', '$to', '$cc']}}\n",
    "    }\n",
    "    \n",
    "    sort = {\n",
    "        '$sort': {'total': pymongo.DESCENDING}\n",
    "    }\n",
    "    \n",
    "    limitBy = {\n",
    "        '$limit': limit\n",
    "    }\n",
    "        \n",
    "    # YOUR CODE HERE\n",
    "    if limit < 0 and limit is not None:\n",
    "        raise Exception('Limit cannot be negative')\n",
    "    else:\n",
    "        merge = None\n",
    "        if limit is None:\n",
    "            merge = collection.aggregate([facet, project, unwind_all, replaceroot, group_all, project_final, sort])\n",
    "        else:\n",
    "            merge = collection.aggregate([facet, project, unwind_all, replaceroot, group_all, project_final, sort, limitBy])\n",
    "        return list(merge)"
   ]
  },
  {
   "cell_type": "markdown",
   "metadata": {},
   "source": [
    "### 7)\n",
    "Write a function to find out the number of senders who were also direct receivers. Direct receiver means the email is sent to the person directly, not via cc or bcc. [4 points]"
   ]
  },
  {
   "cell_type": "code",
   "execution_count": 48,
   "metadata": {
    "scrolled": false
   },
   "outputs": [],
   "source": [
    "def get_from_to_people(collection):\n",
    "    \"\"\"\n",
    "    :param collection A PyMongo collection object\n",
    "    :return the NUMBER of the people who have sent emails and received emails as direct receivers.\n",
    "    \"\"\"    \n",
    "    # YOUR CODE HERE\n",
    "    # Find all the distinct emails in headers.From\n",
    "    group_from = {\n",
    "        '$group' : {'_id' : '$headers.From'}\n",
    "    }\n",
    "    \n",
    "    # Find all the distinct emails in headers.To which are not empty\n",
    "    match_to = {\n",
    "        '$match': { 'headers.To': {'$ne': None}}\n",
    "    } \n",
    "    \n",
    "    group_to = {\n",
    "        '$group' : {'_id' : '$headers.To'}\n",
    "    }\n",
    "    \n",
    "    from_emails = collection.aggregate([group_from])\n",
    "    to_emails = collection.aggregate([match_to, group_to])\n",
    "    \n",
    "    # remove the white spaces before or after the emails\n",
    "    send = [email['_id'].strip() for email in from_emails]\n",
    "    receive = [email.strip() for emails in to_emails for email in emails['_id'].split(',')]\n",
    "    \n",
    "    return len(set(receive).intersection(send))"
   ]
  },
  {
   "cell_type": "markdown",
   "metadata": {},
   "source": [
    "### 8)\n",
    "Write a function with parameters start_date and end_date, which returns the number of email messages that have been sent between those specified dates, including start_date and end_date [4 points] "
   ]
  },
  {
   "cell_type": "code",
   "execution_count": 49,
   "metadata": {
    "scrolled": false
   },
   "outputs": [],
   "source": [
    "def get_emails_between_dates(collection, start_date, end_date):\n",
    "    \"\"\"\n",
    "    :param collection A PyMongo collection object\n",
    "    :return All emails between the specified start_date and end_date\n",
    "    \"\"\"    \n",
    "    # YOUR CODE HERE    \n",
    "    # Python DateTime Object: start_date, end_date\n",
    "    # Format of the date in MongoDB: Tue, 14 Nov 2000 04:17:00 -0800 (PST) [36 or 37 characters]\n",
    "    # one outlier of the dates: Monday, March 12\n",
    "    \n",
    "    # group the same dates together\n",
    "    group = {\n",
    "        '$group': {'_id': '$headers.Date', 'count': {'$sum': 1}}\n",
    "    }\n",
    "    \n",
    "    # make sure the string in headers.Date is in the right format, otherwise ignore the row\n",
    "    # then project a new field using $dateFromString which gets a datetime object in mongoDB\n",
    "    project = {\n",
    "        '$project' : {'_id':False, 'count': True,\n",
    "                          'datetime': {\n",
    "                              '$cond': [{'$or': [{'$eq': [{'$strLenCP': '$_id'}, 36]}, \n",
    "                                                 {'$eq': [{'$strLenCP': '$_id'}, 37]}\n",
    "                                                 ]},\n",
    "                                        {'$dateFromString': {\n",
    "                                            'dateString': {\n",
    "                                                '$substr': ['$_id', 0, {'$subtract': [{'$strLenCP': '$_id'}, 5]}]\n",
    "                                                }\n",
    "                                            }\n",
    "                                        }, \n",
    "                                        None]\n",
    "                          }\n",
    "                     }\n",
    "    }\n",
    "    \n",
    "    # find the emails which are between the start date and end date included\n",
    "    match = {\n",
    "        '$match': {'$and': [{'datetime': {'$gte': start_date}},\n",
    "                            {'datetime': {'$lte': end_date}}\n",
    "                            ]}\n",
    "    }\n",
    "    \n",
    "    # count them\n",
    "    count = {\n",
    "        '$group' : {'_id': None, 'sum': {'$sum': '$count'}}\n",
    "    }\n",
    "    \n",
    "    num_emails = collection.aggregate([group, project, match, count])\n",
    "    return num_emails.next()['sum']"
   ]
  },
  {
   "cell_type": "markdown",
   "metadata": {},
   "source": [
    "## Task 2\n",
    "This task will assess your ability to use the Hadoop Streaming API and MapReduce to process data. For each of the questions below, you are expected to write two python scripts, one for the Map phase and one for the Reduce phase. You are also expected to provide the correct parameters to the `hadoop` command to run the MapReduce process. Write down your answers in the specified cells below.\n",
    "\n",
    "To get started, you need to download and unzip the YouTube dataset (available at http://edshare.soton.ac.uk/19547/) onto the machine where you have Hadoop installed (this should be the virtual machine provided).\n",
    "\n",
    "To help you, `%%writefile` has been added to the top of the cells, automatically writing them to \"mapper.py\" and \"reducer.py\" respectively when the cells are run."
   ]
  },
  {
   "cell_type": "markdown",
   "metadata": {},
   "source": [
    "### 1) \n",
    "Using Youtube01-Psy.csv, find the hourly interval in which most spam was sent. The output should be in the form of a single key-value pair, where the value is a datetime at the start of the hour with the highest number of spam comments. [9 points]"
   ]
  },
  {
   "cell_type": "code",
   "execution_count": 50,
   "metadata": {
    "scrolled": true
   },
   "outputs": [
    {
     "name": "stdout",
     "output_type": "stream",
     "text": [
      "Overwriting mapper.py\n"
     ]
    }
   ],
   "source": [
    "%%writefile mapper.py\n",
    "#!/usr/bin/env python\n",
    "#Answer for mapper.py\n",
    "\n",
    "# Pass all the hour in the form of (key, value) pair\n",
    "# assign all values to have the same key so they go to the same reducer\n",
    "import csv\n",
    "import sys\n",
    "\n",
    "lines = sys.stdin.readlines()\n",
    "csvreader = csv.reader(lines)\n",
    "headers = next(csvreader)\n",
    "\n",
    "for row in csvreader:\n",
    "    try:  # is a time in the format of YYYY-MM-DDTHH:MM:SS\n",
    "        hour = row[2][0:14] + \"00:00\"\n",
    "        print('{}\\t{}'.format('hour_with_most_spam', hour))\n",
    "    except:\n",
    "        continue"
   ]
  },
  {
   "cell_type": "code",
   "execution_count": 51,
   "metadata": {},
   "outputs": [
    {
     "name": "stdout",
     "output_type": "stream",
     "text": [
      "Overwriting reducer.py\n"
     ]
    }
   ],
   "source": [
    "%%writefile reducer.py\n",
    "#!/usr/bin/env python\n",
    "#Answer for reducer.py\n",
    "import sys\n",
    "from collections import defaultdict\n",
    "\n",
    "input_pairs = sys.stdin.readlines()\n",
    "\n",
    "accumulator = defaultdict(lambda: 0)\n",
    "\n",
    "for time in input_pairs:\n",
    "    key_value = time.split('\\t', 1)\n",
    "    if len(key_value) != 2:\n",
    "        continue\n",
    "    time = str(key_value[1]).strip()\n",
    "    accumulator[time] += 1\n",
    "\n",
    "hour_with_most_spam = max(accumulator.iteritems(), key = lambda k: k[1])\n",
    "print('hour_with_most_spam\\t\"{}\"'.format(hour_with_most_spam[0]))"
   ]
  },
  {
   "cell_type": "code",
   "execution_count": 54,
   "metadata": {
    "scrolled": true
   },
   "outputs": [
    {
     "name": "stderr",
     "output_type": "stream",
     "text": [
      "-bash: line 3: hadoop-standalone-mode.sh: command not found\n",
      "-bash: line 5: hadoop: command not found\n"
     ]
    }
   ],
   "source": [
    "%%bash\n",
    "#Hadoop command to run the map reduce.\n",
    "rm -rf output\n",
    "hadoop-standalone-mode.sh\n",
    "\n",
    "hadoop jar $HADOOP_HOME/share/hadoop/tools/lib/hadoop-streaming-*.jar \\\n",
    "-files mapper.py,reducer.py \\\n",
    "-input Youtube01-Psy.csv \\\n",
    "-mapper ./mapper.py \\\n",
    "-reducer ./reducer.py \\\n",
    "-output output \\"
   ]
  },
  {
   "cell_type": "code",
   "execution_count": 55,
   "metadata": {},
   "outputs": [],
   "source": [
    "#Expected key-value output format:\n",
    "#hour_with_most_spam\t\"2013-11-10T10:00:00\"\n",
    "\n",
    "#Additional key-value pairs are acceptable, as long as the hour_with_most_spam pair is correct."
   ]
  },
  {
   "cell_type": "markdown",
   "metadata": {},
   "source": [
    "### 2) \n",
    "Find all comments associated with a username (the AUTHOR field). Return a JSON array of all comments associated with that username. (This should use the data from all 5 data files: Psy, KatyPerry, LMFAO, Eminem, Shakira) [11 points]"
   ]
  },
  {
   "cell_type": "code",
   "execution_count": 56,
   "metadata": {
    "scrolled": true
   },
   "outputs": [
    {
     "name": "stdout",
     "output_type": "stream",
     "text": [
      "Overwriting mapper.py\n"
     ]
    }
   ],
   "source": [
    "%%writefile mapper.py\n",
    "#!/usr/bin/env python\n",
    "#Answer for mapper.py\n",
    "\n",
    "# Argument username is passed in the bash commands\n",
    "# See two cells below\n",
    "import csv\n",
    "import sys\n",
    "\n",
    "lines = sys.stdin.readlines()\n",
    "csvreader = csv.reader(lines)\n",
    "# remove the headers row in csv\n",
    "headers = next(csvreader)\n",
    "\n",
    "# the username are the command line arguments separated by whitespaces\n",
    "username = ' '.join(sys.argv[1:])\n",
    "\n",
    "for row in csvreader:\n",
    "    # if username is not provided, we output all key,value pairs of all authors\n",
    "    # if username == author, then we output key,value pairs of the same author\n",
    "    author = row[1].strip()\n",
    "    comment = row[3].strip()\n",
    "    if username == \"\":\n",
    "        print('{}\\t{}'.format(author, comment))\n",
    "    elif author == username:\n",
    "        print('{}\\t{}'.format(username, comment))\n"
   ]
  },
  {
   "cell_type": "code",
   "execution_count": 57,
   "metadata": {},
   "outputs": [
    {
     "name": "stdout",
     "output_type": "stream",
     "text": [
      "Overwriting reducer.py\n"
     ]
    }
   ],
   "source": [
    "%%writefile reducer.py\n",
    "#!/usr/bin/env python\n",
    "#Answer for reducer.py\n",
    "import sys\n",
    "import json\n",
    "from collections import defaultdict\n",
    "\n",
    "input_pairs = sys.stdin.readlines()\n",
    "\n",
    "accumulator = defaultdict(list)\n",
    "\n",
    "for row in input_pairs:\n",
    "    key_value = row.split('\\t', 1)\n",
    "    if len(key_value) != 2:\n",
    "        continue\n",
    "    author = key_value[0]\n",
    "    comment = key_value[1]\n",
    "    accumulator[author].append(comment)\n",
    "\n",
    "for (key, value) in accumulator.iteritems():\n",
    "     print('{}\\t{}'.format(key, json.dumps(value)))\n"
   ]
  },
  {
   "cell_type": "code",
   "execution_count": 58,
   "metadata": {
    "scrolled": true
   },
   "outputs": [
    {
     "name": "stderr",
     "output_type": "stream",
     "text": [
      "-bash: line 11: hadoop-standalone-mode.sh: command not found\n",
      "-bash: line 13: hadoop: command not found\n"
     ]
    }
   ],
   "source": [
    "%%bash\n",
    "# Enter the username you want to search\n",
    "## set username as \"\" to find all username's list of comments\n",
    "USERNAME=\"Corey Wilson\"\n",
    "\n",
    "# set the mapper to pass the USERNAME argument\n",
    "MAPPER=\"./mapper.py $USERNAME\"\n",
    "# echo $MAPPER\n",
    "\n",
    "#Hadoop command to run the map reduce.\n",
    "rm -rf output\n",
    "hadoop-standalone-mode.sh\n",
    "\n",
    "hadoop jar $HADOOP_HOME/share/hadoop/tools/lib/hadoop-streaming-*.jar \\\n",
    "-files mapper.py,reducer.py \\\n",
    "-input Youtube01-Psy.csv,Youtube02-KatyPerry.csv,Youtube03-LMFAO.csv,Youtube04-Eminem.csv,Youtube05-Shakira.csv \\\n",
    "-mapper \"$MAPPER\" \\\n",
    "-reducer ./reducer.py \\\n",
    "-output output"
   ]
  },
  {
   "cell_type": "code",
   "execution_count": null,
   "metadata": {},
   "outputs": [],
   "source": [
    "#Expected key-value output format:\n",
    "#John Smith\t[\"Comment 1\", \"Comment 2\", \"Comment 3\", \"etc.\"]\n",
    "#Jane Doe\t[\"Comment 1\", \"Comment 2\", \"Comment 3\", \"etc.\"]"
   ]
  },
  {
   "cell_type": "code",
   "execution_count": null,
   "metadata": {},
   "outputs": [],
   "source": []
  }
 ],
 "metadata": {
  "anaconda-cloud": {},
  "celltoolbar": "Create Assignment",
  "kernelspec": {
   "display_name": "Python 2",
   "language": "python",
   "name": "python2"
  },
  "language_info": {
   "codemirror_mode": {
    "name": "ipython",
    "version": 2
   },
   "file_extension": ".py",
   "mimetype": "text/x-python",
   "name": "python",
   "nbconvert_exporter": "python",
   "pygments_lexer": "ipython2",
   "version": "2.7.18"
  }
 },
 "nbformat": 4,
 "nbformat_minor": 2
}
